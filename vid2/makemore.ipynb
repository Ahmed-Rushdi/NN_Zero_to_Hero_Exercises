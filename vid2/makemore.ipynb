{
 "cells": [
  {
   "cell_type": "markdown",
   "id": "f052e427fa9150f2",
   "metadata": {},
   "source": [
    "## Exercises:\n",
    "* ##### E01: train a trigram language model, i.e. take two characters as an input to predict the 3rd one. Feel free to use either counting or a neural net. Evaluate the loss; Did it improve over a bigram model?\n",
    "* ##### E02: split up the dataset randomly into 80% train set, 10% dev set, 10% test set. Train the bigram and trigram models only on the training set. Evaluate them on dev and test splits. What can you see?\n",
    "* ##### E03: use the dev set to tune the strength of smoothing (or regularization) for the trigram model - i.e. try many possibilities and see which one works best based on the dev set loss. What patterns can you see in the train and dev set loss as you tune this strength? Take the best setting of the smoothing and evaluate on the test set once and at the end. How good of a loss do you achieve?\n",
    "* ##### E04: we saw that our 1-hot vectors merely select a row of W, so producing these vectors explicitly feels wasteful. Can you delete our use of F.one_hot in favor of simply indexing into rows of W?\n",
    "* ##### E05: look up and use F.cross_entropy instead. You should achieve the same result. Can you think of why we'd prefer to use F.cross_entropy instead?\n",
    "* ##### E06: meta-exercise! Think of a fun/interesting exercise and complete it."
   ]
  },
  {
   "cell_type": "markdown",
   "id": "20790d043a7685a2",
   "metadata": {
    "editable": true,
    "slideshow": {
     "slide_type": ""
    },
    "tags": []
   },
   "source": [
    "### E01"
   ]
  },
  {
   "cell_type": "code",
   "id": "5a761ab7f4ce0518",
   "metadata": {
    "jupyter": {
     "is_executing": true
    }
   },
   "source": [
    "# words = ['..'+line.split(',')[1].lower()+'.' for line in open(\"data/NationalNames.csv\", 'r').read().splitlines()][1:]\n",
    "words = [line.split(',')[1].lower() for line in open(\"data/NationalNames.csv\", 'r').read().splitlines()][1:]"
   ],
   "outputs": [],
   "execution_count": null
  },
  {
   "metadata": {
    "ExecuteTime": {
     "end_time": "2024-06-19T09:42:43.578899Z",
     "start_time": "2024-06-19T09:42:43.575422Z"
    }
   },
   "cell_type": "code",
   "source": "",
   "id": "c705de0929dbd8b7",
   "outputs": [
    {
     "data": {
      "text/plain": [
       "{',': 0,\n",
       " '.': 1,\n",
       " '5': 2,\n",
       " '8': 3,\n",
       " '9': 4,\n",
       " 'a': 5,\n",
       " 'b': 6,\n",
       " 'c': 7,\n",
       " 'd': 8,\n",
       " 'e': 9,\n",
       " 'f': 10,\n",
       " 'g': 11,\n",
       " 'h': 12,\n",
       " 'i': 13,\n",
       " 'j': 14,\n",
       " 'k': 15,\n",
       " 'l': 16,\n",
       " 'm': 17,\n",
       " 'n': 18,\n",
       " 'o': 19,\n",
       " 'p': 20,\n",
       " 'q': 21,\n",
       " 'r': 22,\n",
       " 's': 23,\n",
       " 't': 24,\n",
       " 'u': 25,\n",
       " 'v': 26,\n",
       " 'w': 27,\n",
       " 'x': 28,\n",
       " 'y': 29,\n",
       " 'z': 30,\n",
       " 'ب': 31,\n",
       " 'ث': 32,\n",
       " 'س': 33,\n",
       " 'ف': 34,\n",
       " 'ل': 35,\n",
       " 'ي': 36}"
      ]
     },
     "execution_count": 4,
     "metadata": {},
     "output_type": "execute_result"
    }
   ],
   "execution_count": 4
  },
  {
   "cell_type": "code",
   "id": "f78b0fdbb78fe699",
   "metadata": {
    "jupyter": {
     "is_executing": true
    }
   },
   "source": [
    "for i in range(5):\n",
    "    word = words[i]\n",
    "    print(word)\n",
    "    trigrams = [(word[i:i + 2], word[i + 2]) for i in range(len(word) - 2)]\n",
    "    print(f\"Trigrams: {str(trigrams)}\\n-----------\")"
   ],
   "outputs": [],
   "execution_count": null
  },
  {
   "cell_type": "code",
   "id": "6b633332cff66ff1",
   "metadata": {
    "jupyter": {
     "is_executing": true
    }
   },
   "source": [
    "words = set(words)"
   ],
   "outputs": [],
   "execution_count": null
  },
  {
   "cell_type": "code",
   "id": "f280c47dce8124df",
   "metadata": {
    "jupyter": {
     "is_executing": true
    }
   },
   "source": [
    "from collections import Counter\n",
    "\n",
    "trigrams = []\n",
    "for word in words:\n",
    "    trigrams += [(word[i:i + 2], word[i + 2]) for i in range(len(word) - 2)]\n",
    "\n",
    "trigram_counts = Counter(trigrams, )"
   ],
   "outputs": [],
   "execution_count": null
  },
  {
   "cell_type": "code",
   "id": "14719c22a45a78b2",
   "metadata": {
    "jupyter": {
     "is_executing": true
    }
   },
   "source": [
    "trigrams[:10]"
   ],
   "outputs": [],
   "execution_count": null
  },
  {
   "cell_type": "code",
   "id": "f3bc97c06a368d59",
   "metadata": {
    "jupyter": {
     "is_executing": true
    }
   },
   "source": [
    "trigram_counts.most_common()[:20]"
   ],
   "outputs": [],
   "execution_count": null
  },
  {
   "cell_type": "code",
   "id": "4f943f70d7a750ba",
   "metadata": {
    "jupyter": {
     "is_executing": true
    }
   },
   "source": [
    "print(len(trigrams))\n",
    "print(len(trigram_counts))"
   ],
   "outputs": [],
   "execution_count": null
  },
  {
   "cell_type": "code",
   "id": "8262c3b37cb1623a",
   "metadata": {
    "jupyter": {
     "is_executing": true
    }
   },
   "source": [
    "alphabet = list('.abcdefghijklmnopqrstuvwxyz')\n",
    "output_stoi = {s: i for i, s in enumerate(alphabet)}\n",
    "output_itos = {i: s for i, s in enumerate(alphabet)}\n",
    "# print(output_stoi)\n",
    "# print(output_itos)"
   ],
   "outputs": [],
   "execution_count": null
  },
  {
   "cell_type": "code",
   "id": "9b222230e79c0e76",
   "metadata": {
    "jupyter": {
     "is_executing": true
    }
   },
   "source": [
    "input_stoi = {s: i for i, s in enumerate([j + k for j in alphabet for k in alphabet])}\n",
    "input_itos = {i: s for i, s in enumerate([j + k for j in alphabet for k in alphabet])}\n",
    "# print(input_stoi)\n",
    "# print(input_itos)"
   ],
   "outputs": [],
   "execution_count": null
  },
  {
   "cell_type": "markdown",
   "id": "9a21cdedb1bb4c72",
   "metadata": {},
   "source": [
    "#### Sampling from a 2d matrix"
   ]
  },
  {
   "cell_type": "code",
   "id": "8871972f3b023506",
   "metadata": {
    "jupyter": {
     "is_executing": true
    }
   },
   "source": [
    "import torch\n",
    "\n",
    "N = torch.zeros(729, 27)\n",
    "for count in trigram_counts.keys():\n",
    "    N[input_stoi[count[0]], output_stoi[count[1]]] = trigram_counts[count]"
   ],
   "outputs": [],
   "execution_count": null
  },
  {
   "cell_type": "code",
   "id": "4da786b75f9eb4bc",
   "metadata": {
    "jupyter": {
     "is_executing": true
    }
   },
   "source": [
    "P = (N + 1) / (N + 1).sum(1, keepdim=True)\n",
    "P"
   ],
   "outputs": [],
   "execution_count": null
  },
  {
   "cell_type": "code",
   "id": "6b04324ffe1edd64",
   "metadata": {
    "jupyter": {
     "is_executing": true
    }
   },
   "source": [
    "g = torch.Generator().manual_seed(0)\n",
    "for i in range(10):\n",
    "\n",
    "    out = []\n",
    "    ix = '..'\n",
    "    while True:\n",
    "        p = P[input_stoi[ix]]\n",
    "        ox = torch.multinomial(p, num_samples=1, replacement=True, generator=g).item()\n",
    "        # ox = torch.multinomial(torch.ones(27)/27, num_samples=1, replacement=True, generator=g).item()\n",
    "        output_char = output_itos[ox]\n",
    "        out.append(output_char)\n",
    "        ix = ix[1] + output_char\n",
    "        if ox == 0:\n",
    "            break\n",
    "        \n",
    "    print(''.join(out))\n"
   ],
   "outputs": [],
   "execution_count": null
  },
  {
   "cell_type": "code",
   "id": "9b990af3cb5fc57a",
   "metadata": {
    "jupyter": {
     "is_executing": true
    }
   },
   "source": [
    "L = P.log()\n",
    "nnl = 0\n",
    "n=0\n",
    "for w in ['..ahmed.','..rushdi.']:\n",
    "    for ch1, ch2, ch3 in zip(w[:], w[1:], w[2:]):\n",
    "        print(f\"{ch1+ch2+ch3}: {P[input_stoi[ch1+ch2]][output_stoi[ch3]]:.5f} {(temp := L[input_stoi[ch1+ch2]][output_stoi[ch3]]):.5f} {trigram_counts[(ch1+ch2,ch3)]}\")\n",
    "        nnl -= temp\n",
    "        n+=1\n",
    "nnl/n"
   ],
   "outputs": [],
   "execution_count": null
  },
  {
   "cell_type": "code",
   "id": "7a2df9df42deff22",
   "metadata": {
    "jupyter": {
     "is_executing": true
    }
   },
   "source": [
    "X_data, y_data = map(list, zip(*trigrams))\n",
    "X_data[:10], y_data[:10]"
   ],
   "outputs": [],
   "execution_count": null
  },
  {
   "cell_type": "code",
   "id": "d06a3c30bfcaf8d3",
   "metadata": {
    "jupyter": {
     "is_executing": true
    }
   },
   "source": [
    "X = torch.tensor([input_stoi[x] for x in X_data])\n",
    "y = torch.tensor([output_stoi[y] for y in y_data])"
   ],
   "outputs": [],
   "execution_count": null
  },
  {
   "cell_type": "code",
   "id": "244eb68b68ad9994",
   "metadata": {
    "jupyter": {
     "is_executing": true
    }
   },
   "source": [
    "nll = -sum(L[x,y] for x,y in zip(X, y))/len(X)"
   ],
   "outputs": [],
   "execution_count": null
  },
  {
   "cell_type": "code",
   "id": "c417d4df41133b33",
   "metadata": {
    "jupyter": {
     "is_executing": true
    }
   },
   "source": [
    "nll"
   ],
   "outputs": [],
   "execution_count": null
  },
  {
   "cell_type": "markdown",
   "id": "fd6ceef258c06fd4",
   "metadata": {},
   "source": "Ahmed Rushdi is an unlikely name w.r.t. the distribution of this dataset as it has higher Negative Log Likelihood than the dataset average."
  },
  {
   "cell_type": "markdown",
   "id": "613b920a099937b9",
   "metadata": {},
   "source": "#### NN trigram implementation"
  },
  {
   "cell_type": "code",
   "id": "941b72e8399ff9f3",
   "metadata": {
    "jupyter": {
     "is_executing": true
    }
   },
   "source": [
    "import torch.nn.functional as F\n",
    "X_enc = F.one_hot(X).float()\n",
    "W = torch.randn((729,27), requires_grad = True)\n",
    "y_enc = F.one_hot(y).float()"
   ],
   "outputs": [],
   "execution_count": null
  },
  {
   "cell_type": "code",
   "id": "3e2faf7a2f1e6ad1",
   "metadata": {
    "scrolled": true,
    "jupyter": {
     "is_executing": true
    }
   },
   "source": [
    "logits = X_enc @ W\n",
    "counts = logits.exp()\n",
    "probs = counts / counts.sum(1, keepdims=True)\n",
    "probs.shape"
   ],
   "outputs": [],
   "execution_count": null
  },
  {
   "cell_type": "code",
   "id": "b265d71ee63f22dc",
   "metadata": {
    "jupyter": {
     "is_executing": true
    }
   },
   "source": [
    "nll = -(probs[X, y]).log().mean()\n",
    "nll"
   ],
   "outputs": [],
   "execution_count": null
  },
  {
   "cell_type": "code",
   "id": "a59b4edb-4dc0-4226-b9e1-f0a3f38fc640",
   "metadata": {
    "jupyter": {
     "is_executing": true
    }
   },
   "source": [
    "loss = None\n",
    "for i in range(1,51):\n",
    "    logits = X_enc @ W\n",
    "    counts = logits.exp()\n",
    "    probs = counts / counts.sum(1, keepdims=True)\n",
    "    loss = -(probs[X, y]).log().mean()\n",
    "    W.grad = None\n",
    "    loss.backward()\n",
    "    W.data += -90 * W.grad\n",
    "    print(f\"Epoch {i}: loss\\t{loss}\")"
   ],
   "outputs": [],
   "execution_count": null
  }
 ],
 "metadata": {
  "kernelspec": {
   "display_name": "Python 3 (ipykernel)",
   "language": "python",
   "name": "python3"
  },
  "language_info": {
   "codemirror_mode": {
    "name": "ipython",
    "version": 3
   },
   "file_extension": ".py",
   "mimetype": "text/x-python",
   "name": "python",
   "nbconvert_exporter": "python",
   "pygments_lexer": "ipython3",
   "version": "3.12.3"
  }
 },
 "nbformat": 4,
 "nbformat_minor": 5
}
