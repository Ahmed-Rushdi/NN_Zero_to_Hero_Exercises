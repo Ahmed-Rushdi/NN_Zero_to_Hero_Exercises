{
 "cells": [
  {
   "cell_type": "markdown",
   "id": "f052e427fa9150f2",
   "metadata": {},
   "source": [
    "## Exercises:\n",
    "* ##### E01: train a trigram language model, i.e. take two characters as an input to predict the 3rd one. Feel free to use either counting or a neural net. Evaluate the loss; Did it improve over a bigram model?\n",
    "* ##### E02: split up the dataset randomly into 80% train set, 10% dev set, 10% test set. Train the bigram and trigram models only on the training set. Evaluate them on dev and test splits. What can you see?\n",
    "* ##### E03: use the dev set to tune the strength of smoothing (or regularization) for the trigram model - i.e. try many possibilities and see which one works best based on the dev set loss. What patterns can you see in the train and dev set loss as you tune this strength? Take the best setting of the smoothing and evaluate on the test set once and at the end. How good of a loss do you achieve?\n",
    "* ##### E04: we saw that our 1-hot vectors merely select a row of W, so producing these vectors explicitly feels wasteful. Can you delete our use of F.one_hot in favor of simply indexing into rows of W?\n",
    "* ##### E05: look up and use F.cross_entropy instead. You should achieve the same result. Can you think of why we'd prefer to use F.cross_entropy instead?\n",
    "* ##### E06: meta-exercise! Think of a fun/interesting exercise and complete it."
   ]
  },
  {
   "cell_type": "markdown",
   "id": "20790d043a7685a2",
   "metadata": {
    "editable": true,
    "slideshow": {
     "slide_type": ""
    },
    "tags": []
   },
   "source": [
    "### E01"
   ]
  },
  {
   "cell_type": "code",
   "id": "5a761ab7f4ce0518",
   "metadata": {
    "ExecuteTime": {
     "end_time": "2024-06-18T07:32:40.156787Z",
     "start_time": "2024-06-18T07:32:38.620770Z"
    }
   },
   "source": [
    "words = ['..'+line.split(',')[1].lower()+'.' for line in open(\"data/NationalNames.csv\", 'r').read().splitlines()][1:]"
   ],
   "outputs": [],
   "execution_count": 1
  },
  {
   "cell_type": "code",
   "id": "f78b0fdbb78fe699",
   "metadata": {
    "ExecuteTime": {
     "end_time": "2024-06-18T07:32:40.161306Z",
     "start_time": "2024-06-18T07:32:40.158765Z"
    }
   },
   "source": [
    "for i in range(5):\n",
    "    word = words[i]\n",
    "    print(word)\n",
    "    trigrams = [(word[i:i + 2], word[i + 2]) for i in range(len(word) - 2)]\n",
    "    print(f\"Trigrams: {str(trigrams)}\\n-----------\")"
   ],
   "outputs": [
    {
     "name": "stdout",
     "output_type": "stream",
     "text": [
      "..mary.\n",
      "Trigrams: [('..', 'm'), ('.m', 'a'), ('ma', 'r'), ('ar', 'y'), ('ry', '.')]\n",
      "-----------\n",
      "..anna.\n",
      "Trigrams: [('..', 'a'), ('.a', 'n'), ('an', 'n'), ('nn', 'a'), ('na', '.')]\n",
      "-----------\n",
      "..emma.\n",
      "Trigrams: [('..', 'e'), ('.e', 'm'), ('em', 'm'), ('mm', 'a'), ('ma', '.')]\n",
      "-----------\n",
      "..elizabeth.\n",
      "Trigrams: [('..', 'e'), ('.e', 'l'), ('el', 'i'), ('li', 'z'), ('iz', 'a'), ('za', 'b'), ('ab', 'e'), ('be', 't'), ('et', 'h'), ('th', '.')]\n",
      "-----------\n",
      "..minnie.\n",
      "Trigrams: [('..', 'm'), ('.m', 'i'), ('mi', 'n'), ('in', 'n'), ('nn', 'i'), ('ni', 'e'), ('ie', '.')]\n",
      "-----------\n"
     ]
    }
   ],
   "execution_count": 2
  },
  {
   "cell_type": "code",
   "id": "6b633332cff66ff1",
   "metadata": {
    "ExecuteTime": {
     "end_time": "2024-06-18T07:32:41.480890Z",
     "start_time": "2024-06-18T07:32:40.163277Z"
    }
   },
   "source": [
    "words = set(words)"
   ],
   "outputs": [],
   "execution_count": 3
  },
  {
   "cell_type": "code",
   "id": "f280c47dce8124df",
   "metadata": {
    "ExecuteTime": {
     "end_time": "2024-06-18T07:32:43.037550Z",
     "start_time": "2024-06-18T07:32:41.483551Z"
    }
   },
   "source": [
    "from collections import Counter\n",
    "\n",
    "trigrams = []\n",
    "for word in words:\n",
    "    trigrams += [(word[i:i + 2], word[i + 2]) for i in range(len(word) - 2)]\n",
    "\n",
    "trigram_counts = Counter(trigrams, )"
   ],
   "outputs": [],
   "execution_count": 4
  },
  {
   "cell_type": "code",
   "id": "14719c22a45a78b2",
   "metadata": {
    "ExecuteTime": {
     "end_time": "2024-06-18T07:32:43.103424Z",
     "start_time": "2024-06-18T07:32:43.041656Z"
    }
   },
   "source": [
    "trigrams[:10]"
   ],
   "outputs": [
    {
     "data": {
      "text/plain": [
       "[('..', 'j'),\n",
       " ('.j', 'i'),\n",
       " ('ji', 'l'),\n",
       " ('il', 'l'),\n",
       " ('ll', 'a'),\n",
       " ('la', 'n'),\n",
       " ('an', 'e'),\n",
       " ('ne', '.'),\n",
       " ('..', 'm'),\n",
       " ('.m', 'a')]"
      ]
     },
     "execution_count": 5,
     "metadata": {},
     "output_type": "execute_result"
    }
   ],
   "execution_count": 5
  },
  {
   "cell_type": "code",
   "id": "f3bc97c06a368d59",
   "metadata": {
    "ExecuteTime": {
     "end_time": "2024-06-18T07:32:43.257482Z",
     "start_time": "2024-06-18T07:32:43.105523Z"
    }
   },
   "source": [
    "trigram_counts.most_common()[:20]"
   ],
   "outputs": [
    {
     "data": {
      "text/plain": [
       "[(('..', 'a'), 9742),\n",
       " (('..', 's'), 7729),\n",
       " (('..', 'j'), 7632),\n",
       " (('..', 'm'), 7258),\n",
       " (('..', 'k'), 6973),\n",
       " (('..', 'd'), 6450),\n",
       " (('..', 't'), 6177),\n",
       " (('..', 'c'), 5625),\n",
       " (('..', 'l'), 5590),\n",
       " (('na', '.'), 5289),\n",
       " (('ia', '.'), 4843),\n",
       " (('sh', 'a'), 4594),\n",
       " (('..', 'r'), 4237),\n",
       " (('.m', 'a'), 4002),\n",
       " (('ah', '.'), 3839),\n",
       " (('.j', 'a'), 3760),\n",
       " (('on', '.'), 3554),\n",
       " (('..', 'e'), 3500),\n",
       " (('..', 'b'), 3362),\n",
       " (('..', 'n'), 3322)]"
      ]
     },
     "execution_count": 6,
     "metadata": {},
     "output_type": "execute_result"
    }
   ],
   "execution_count": 6
  },
  {
   "cell_type": "code",
   "id": "4f943f70d7a750ba",
   "metadata": {
    "ExecuteTime": {
     "end_time": "2024-06-18T07:32:43.388601Z",
     "start_time": "2024-06-18T07:32:43.259219Z"
    }
   },
   "source": [
    "print(len(trigrams))\n",
    "print(len(trigram_counts))"
   ],
   "outputs": [
    {
     "name": "stdout",
     "output_type": "stream",
     "text": [
      "707197\n",
      "7985\n"
     ]
    }
   ],
   "execution_count": 7
  },
  {
   "cell_type": "code",
   "id": "8262c3b37cb1623a",
   "metadata": {
    "ExecuteTime": {
     "end_time": "2024-06-18T07:32:43.530787Z",
     "start_time": "2024-06-18T07:32:43.391004Z"
    }
   },
   "source": [
    "alphabet = list('.abcdefghijklmnopqrstuvwxyz')\n",
    "output_stoi = {s: i for i, s in enumerate(alphabet)}\n",
    "output_itos = {i: s for i, s in enumerate(alphabet)}\n",
    "# print(output_stoi)\n",
    "# print(output_itos)"
   ],
   "outputs": [],
   "execution_count": 8
  },
  {
   "cell_type": "code",
   "id": "9b222230e79c0e76",
   "metadata": {
    "ExecuteTime": {
     "end_time": "2024-06-18T07:32:43.877804Z",
     "start_time": "2024-06-18T07:32:43.533198Z"
    }
   },
   "source": [
    "input_stoi = {s: i for i, s in enumerate([j + k for j in alphabet for k in alphabet])}\n",
    "input_itos = {i: s for i, s in enumerate([j + k for j in alphabet for k in alphabet])}\n",
    "# print(input_stoi)\n",
    "# print(input_itos)"
   ],
   "outputs": [],
   "execution_count": 9
  },
  {
   "cell_type": "markdown",
   "id": "9a21cdedb1bb4c72",
   "metadata": {},
   "source": [
    "#### Sampling from a 2d matrix"
   ]
  },
  {
   "cell_type": "code",
   "id": "8871972f3b023506",
   "metadata": {
    "ExecuteTime": {
     "end_time": "2024-06-18T07:32:45.932122Z",
     "start_time": "2024-06-18T07:32:43.879946Z"
    }
   },
   "source": [
    "import torch\n",
    "\n",
    "N = torch.zeros(729, 27)\n",
    "for count in trigram_counts.keys():\n",
    "    N[input_stoi[count[0]], output_stoi[count[1]]] = trigram_counts[count]"
   ],
   "outputs": [],
   "execution_count": 10
  },
  {
   "cell_type": "code",
   "id": "4da786b75f9eb4bc",
   "metadata": {
    "ExecuteTime": {
     "end_time": "2024-06-18T07:32:45.938531Z",
     "start_time": "2024-06-18T07:32:45.934109Z"
    }
   },
   "source": [
    "P = (N + 1) / (N + 1).sum(1, keepdim=True)\n",
    "P"
   ],
   "outputs": [
    {
     "data": {
      "text/plain": [
       "tensor([[1.0648e-05, 1.0374e-01, 3.5809e-02,  ..., 2.6087e-03, 1.5706e-02,\n",
       "         1.8527e-02],\n",
       "        [1.0236e-04, 3.4599e-02, 4.0229e-02,  ..., 2.8662e-03, 2.8355e-02,\n",
       "         2.3851e-02],\n",
       "        [2.9507e-04, 1.2806e-01, 5.9014e-04,  ..., 2.9507e-04, 7.3768e-03,\n",
       "         2.9507e-04],\n",
       "        ...,\n",
       "        [6.8966e-02, 6.8966e-02, 3.4483e-02,  ..., 3.4483e-02, 3.4483e-02,\n",
       "         3.4483e-02],\n",
       "        [2.3770e-01, 1.2022e-01, 8.1967e-03,  ..., 2.7322e-03, 8.1967e-03,\n",
       "         5.4645e-03],\n",
       "        [4.6392e-02, 2.8866e-01, 1.0309e-02,  ..., 5.1546e-03, 7.7320e-02,\n",
       "         5.1546e-03]])"
      ]
     },
     "execution_count": 11,
     "metadata": {},
     "output_type": "execute_result"
    }
   ],
   "execution_count": 11
  },
  {
   "cell_type": "code",
   "id": "6b04324ffe1edd64",
   "metadata": {
    "ExecuteTime": {
     "end_time": "2024-06-18T07:32:46.064800Z",
     "start_time": "2024-06-18T07:32:45.941280Z"
    }
   },
   "source": [
    "g = torch.Generator().manual_seed(0)\n",
    "for i in range(10):\n",
    "\n",
    "    out = []\n",
    "    ix = '..'\n",
    "    while True:\n",
    "        p = P[input_stoi[ix]]\n",
    "        ox = torch.multinomial(p, num_samples=1, replacement=True, generator=g).item()\n",
    "        # ox = torch.multinomial(torch.ones(27)/27, num_samples=1, replacement=True, generator=g).item()\n",
    "        output_char = output_itos[ox]\n",
    "        out.append(output_char)\n",
    "        ix = ix[1] + output_char\n",
    "        if ox == 0:\n",
    "            break\n",
    "        \n",
    "    print(''.join(out))\n"
   ],
   "outputs": [
    {
     "name": "stdout",
     "output_type": "stream",
     "text": [
      "brona.\n",
      "kercur.\n",
      "jer.\n",
      "li.\n",
      "lum.\n",
      "advie.\n",
      "motah.\n",
      "suhl.\n",
      "merlershonia.\n",
      "aytte.\n"
     ]
    }
   ],
   "execution_count": 12
  },
  {
   "cell_type": "code",
   "id": "9b990af3cb5fc57a",
   "metadata": {
    "ExecuteTime": {
     "end_time": "2024-06-18T07:32:46.189914Z",
     "start_time": "2024-06-18T07:32:46.067301Z"
    }
   },
   "source": [
    "L = P.log()\n",
    "nnl = 0\n",
    "n=0\n",
    "for w in ['..ahmed.','..rushdi.']:\n",
    "    for ch1, ch2, ch3 in zip(w[:], w[1:], w[2:]):\n",
    "        print(f\"{ch1+ch2+ch3}: {P[input_stoi[ch1+ch2]][output_stoi[ch3]]:.5f} {(temp := L[input_stoi[ch1+ch2]][output_stoi[ch3]]):.5f} {trigram_counts[(ch1+ch2,ch3)]}\")\n",
    "        nnl -= temp\n",
    "        n+=1\n",
    "nnl/n"
   ],
   "outputs": [
    {
     "name": "stdout",
     "output_type": "stream",
     "text": [
      "..a: 0.10374 -2.26585 9742\n",
      ".ah: 0.01873 -3.97748 182\n",
      "ahm: 0.03267 -3.42118 179\n",
      "hme: 0.13312 -2.01653 40\n",
      "med: 0.02927 -3.53113 79\n",
      "ed.: 0.14466 -1.93338 194\n",
      "..r: 0.04513 -3.09831 4237\n",
      ".ru: 0.06637 -2.71252 282\n",
      "rus: 0.18220 -1.70266 130\n",
      "ush: 0.07978 -2.52843 132\n",
      "shd: 0.00175 -6.34901 13\n",
      "hdi: 0.15190 -1.88454 11\n",
      "di.: 0.10726 -2.23249 225\n"
     ]
    },
    {
     "data": {
      "text/plain": [
       "tensor(2.8964)"
      ]
     },
     "execution_count": 13,
     "metadata": {},
     "output_type": "execute_result"
    }
   ],
   "execution_count": 13
  },
  {
   "cell_type": "code",
   "id": "7a2df9df42deff22",
   "metadata": {
    "ExecuteTime": {
     "end_time": "2024-06-18T07:32:46.397707Z",
     "start_time": "2024-06-18T07:32:46.191946Z"
    }
   },
   "source": [
    "X_data, y_data = map(list, zip(*trigrams))\n",
    "X_data[:10], y_data[:10]"
   ],
   "outputs": [
    {
     "data": {
      "text/plain": [
       "(['..', '.j', 'ji', 'il', 'll', 'la', 'an', 'ne', '..', '.m'],\n",
       " ['j', 'i', 'l', 'l', 'a', 'n', 'e', '.', 'm', 'a'])"
      ]
     },
     "execution_count": 14,
     "metadata": {},
     "output_type": "execute_result"
    }
   ],
   "execution_count": 14
  },
  {
   "cell_type": "code",
   "id": "d06a3c30bfcaf8d3",
   "metadata": {
    "ExecuteTime": {
     "end_time": "2024-06-18T07:32:46.746434Z",
     "start_time": "2024-06-18T07:32:46.399980Z"
    }
   },
   "source": [
    "X = torch.tensor([input_stoi[x] for x in X_data])\n",
    "y = torch.tensor([output_stoi[y] for y in y_data])"
   ],
   "outputs": [],
   "execution_count": 15
  },
  {
   "cell_type": "code",
   "id": "244eb68b68ad9994",
   "metadata": {
    "ExecuteTime": {
     "end_time": "2024-06-18T07:32:52.944077Z",
     "start_time": "2024-06-18T07:32:46.748679Z"
    }
   },
   "source": [
    "nll = -sum(L[x,y] for x,y in zip(X, y))/len(X)"
   ],
   "outputs": [],
   "execution_count": 16
  },
  {
   "cell_type": "code",
   "id": "c417d4df41133b33",
   "metadata": {
    "ExecuteTime": {
     "end_time": "2024-06-18T07:32:52.948835Z",
     "start_time": "2024-06-18T07:32:52.946085Z"
    }
   },
   "source": [
    "nll"
   ],
   "outputs": [
    {
     "data": {
      "text/plain": [
       "tensor(2.2327)"
      ]
     },
     "execution_count": 17,
     "metadata": {},
     "output_type": "execute_result"
    }
   ],
   "execution_count": 17
  },
  {
   "cell_type": "markdown",
   "id": "fd6ceef258c06fd4",
   "metadata": {},
   "source": [
    "Ahmed Rushdi is an unlikely name w.r.t. the distribution of this dataset as it has higher Negative Log Likelihood than the dataset average.\n"
   ]
  },
  {
   "cell_type": "markdown",
   "id": "613b920a099937b9",
   "metadata": {},
   "source": [
    "#### NN solution"
   ]
  },
  {
   "cell_type": "code",
   "id": "941b72e8399ff9f3",
   "metadata": {
    "ExecuteTime": {
     "end_time": "2024-06-18T07:32:54.781375Z",
     "start_time": "2024-06-18T07:32:52.951010Z"
    }
   },
   "source": [
    "import torch.nn.functional as F\n",
    "X_enc = F.one_hot(X).float()\n",
    "W = torch.randn((729,27), requires_grad = True)\n",
    "y_enc = F.one_hot(y).float()"
   ],
   "outputs": [],
   "execution_count": 18
  },
  {
   "cell_type": "code",
   "id": "3e2faf7a2f1e6ad1",
   "metadata": {
    "scrolled": true,
    "ExecuteTime": {
     "end_time": "2024-06-18T07:32:55.407713Z",
     "start_time": "2024-06-18T07:32:54.785181Z"
    }
   },
   "source": [
    "logits = X_enc @ W\n",
    "counts = logits.exp()\n",
    "probs = counts / counts.sum(1, keepdims=True)\n",
    "probs.shape"
   ],
   "outputs": [
    {
     "data": {
      "text/plain": [
       "torch.Size([707197, 27])"
      ]
     },
     "execution_count": 19,
     "metadata": {},
     "output_type": "execute_result"
    }
   ],
   "execution_count": 19
  },
  {
   "cell_type": "code",
   "id": "b265d71ee63f22dc",
   "metadata": {
    "ExecuteTime": {
     "end_time": "2024-06-18T07:32:55.952884Z",
     "start_time": "2024-06-18T07:32:55.410237Z"
    }
   },
   "source": [
    "nll = -(probs[X, y]).log().mean()\n",
    "nll"
   ],
   "outputs": [
    {
     "data": {
      "text/plain": [
       "tensor(3.8218, grad_fn=<NegBackward0>)"
      ]
     },
     "execution_count": 20,
     "metadata": {},
     "output_type": "execute_result"
    }
   ],
   "execution_count": 20
  },
  {
   "cell_type": "code",
   "id": "a59b4edb-4dc0-4226-b9e1-f0a3f38fc640",
   "metadata": {
    "ExecuteTime": {
     "end_time": "2024-06-18T07:34:55.501614Z",
     "start_time": "2024-06-18T07:32:55.954840Z"
    }
   },
   "source": [
    "loss = None\n",
    "for i in range(1,21):\n",
    "    logits = X_enc @ W\n",
    "    counts = logits.exp()\n",
    "    probs = counts / counts.sum(1, keepdims=True)\n",
    "    loss = -(probs[X, y]).log().mean()\n",
    "    W.grad = None\n",
    "    loss.backward()\n",
    "    W.data += -90 * W.grad\n",
    "    print(f\"Epoch {i}: loss\\t{loss}\")"
   ],
   "outputs": [
    {
     "name": "stdout",
     "output_type": "stream",
     "text": [
      "Epoch 1: loss\t3.821833848953247\n",
      "Epoch 2: loss\t3.512383460998535\n",
      "Epoch 3: loss\t3.3989343643188477\n",
      "Epoch 4: loss\t3.293923854827881\n",
      "Epoch 5: loss\t3.231837034225464\n",
      "Epoch 6: loss\t3.16994309425354\n",
      "Epoch 7: loss\t3.1314799785614014\n",
      "Epoch 8: loss\t3.074338912963867\n",
      "Epoch 9: loss\t3.046250581741333\n",
      "Epoch 10: loss\t3.0043814182281494\n",
      "Epoch 11: loss\t2.986933946609497\n",
      "Epoch 12: loss\t2.9497246742248535\n",
      "Epoch 13: loss\t2.937481641769409\n",
      "Epoch 14: loss\t2.9075706005096436\n",
      "Epoch 15: loss\t2.9005300998687744\n",
      "Epoch 16: loss\t2.873008966445923\n",
      "Epoch 17: loss\t2.8687384128570557\n",
      "Epoch 18: loss\t2.8448801040649414\n",
      "Epoch 19: loss\t2.8433432579040527\n",
      "Epoch 20: loss\t2.8209125995635986\n"
     ]
    }
   ],
   "execution_count": 21
  }
 ],
 "metadata": {
  "kernelspec": {
   "display_name": "Python 3 (ipykernel)",
   "language": "python",
   "name": "python3"
  },
  "language_info": {
   "codemirror_mode": {
    "name": "ipython",
    "version": 3
   },
   "file_extension": ".py",
   "mimetype": "text/x-python",
   "name": "python",
   "nbconvert_exporter": "python",
   "pygments_lexer": "ipython3",
   "version": "3.12.3"
  }
 },
 "nbformat": 4,
 "nbformat_minor": 5
}
